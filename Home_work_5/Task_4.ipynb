{
 "cells": [
  {
   "cell_type": "markdown",
   "id": "5b4dc65c-0b51-4c39-9c4f-88f910b388f3",
   "metadata": {},
   "source": [
    "## Задача 4. Есть ли статистически значимые различия в среднем росте матерей и дочерей?\n",
    "Рост матерей 172, 177, 158, 170, 178,175, 164, 160, 169, 165\n",
    "Рост взрослых дочерей: 173, 175, 162, 174, 175, 168, 155, 170, 160, 163\n",
    "(Решать с помощью функции.)"
   ]
  },
  {
   "cell_type": "code",
   "execution_count": 1,
   "id": "3ad828f7-ea05-4efb-8875-5e083f4987ae",
   "metadata": {},
   "outputs": [],
   "source": [
    "import scipy.stats as stats"
   ]
  },
  {
   "cell_type": "code",
   "execution_count": 2,
   "id": "2e290cd2-8850-4c00-a5f5-1afd382bd384",
   "metadata": {},
   "outputs": [
    {
     "data": {
      "text/plain": [
       "TtestResult(statistic=0.6648478531431979, pvalue=0.5228168632983574, df=9)"
      ]
     },
     "execution_count": 2,
     "metadata": {},
     "output_type": "execute_result"
    }
   ],
   "source": [
    "arr1 = [172, 177, 158, 170, 178, 175, 164, 160, 169, 165]\n",
    "arr2 = [173, 175, 162, 174, 175, 168, 155, 170, 160, 163]\n",
    "\n",
    "stats.ttest_rel(arr1, arr2)"
   ]
  },
  {
   "cell_type": "markdown",
   "id": "a7bae30c-c5f3-4e93-9463-3cf37505c129",
   "metadata": {},
   "source": [
    "Так как  𝑝−𝑣𝑎𝑙𝑢𝑒>𝛼(0,05),то нулевая гипотеза  𝐻0 не отвергается на уровне значимости  𝛼(0,05) Статистически заничмых различий в среднем росте матерей и дочерей нет."
   ]
  }
 ],
 "metadata": {
  "kernelspec": {
   "display_name": "Python 3 (ipykernel)",
   "language": "python",
   "name": "python3"
  },
  "language_info": {
   "codemirror_mode": {
    "name": "ipython",
    "version": 3
   },
   "file_extension": ".py",
   "mimetype": "text/x-python",
   "name": "python",
   "nbconvert_exporter": "python",
   "pygments_lexer": "ipython3",
   "version": "3.10.9"
  }
 },
 "nbformat": 4,
 "nbformat_minor": 5
}
