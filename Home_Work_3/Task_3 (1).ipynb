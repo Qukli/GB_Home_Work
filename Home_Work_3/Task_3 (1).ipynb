{
 "cells": [
  {
   "cell_type": "markdown",
   "id": "6046b202-4aea-4181-a265-c835ced35eb1",
   "metadata": {},
   "source": [
    "На соревновании по биатлону один из трех спортсменов стреляет и попадает в мишень. Вероятность попадания для первого спортсмена равна 0.9, для второго — 0.8, для третьего — 0.6. Найти вероятность того, что выстрел произведен: a). первым спортсменом б). вторым спортсменом в). третьим спортсменом."
   ]
  },
  {
   "cell_type": "code",
   "execution_count": 1,
   "id": "e90093f4-6226-4c26-9546-38f36a310491",
   "metadata": {},
   "outputs": [
    {
     "name": "stdout",
     "output_type": "stream",
     "text": [
      "Полная вероятность наступления события PA = 0.825.\n"
     ]
    }
   ],
   "source": [
    "PB = 0.25 * 0.8 + 0.25 * 0.7 + 0.5 * 0.9\n",
    "print(f'Полная вероятность наступления события PA = {round(PB, 4)}.')"
   ]
  },
  {
   "cell_type": "code",
   "execution_count": 7,
   "id": "360fefce-95e5-44e8-ad5b-2c0b325fe590",
   "metadata": {},
   "outputs": [
    {
     "name": "stdout",
     "output_type": "stream",
     "text": [
      "Вероятность того, что студент учится на факультете А: 0.2424 = 24.24%;\n",
      "Вероятность того, что студент учится на факультете B: 0.2424 = 24.24%;\n",
      "Вероятность того, что студент учится на факультете C: 0.5455 = 54.55%.\n"
     ]
    }
   ],
   "source": [
    "PAB1 = 0.25 * 0.8 / PB\n",
    "PAB2 = 0.25 * 0.7 / PB\n",
    "PAB3 = 0.5 * 0.9 / PB\n",
    "print(f'Вероятность того, что студент учится на факультете А: {round(PAB1, 4)} = {round(PAB1 * 100, 2)}%;\\n'\n",
    "      f'Вероятность того, что студент учится на факультете B: {round(PAB1, 4)} = {round(PAB1 * 100, 2)}%;\\n'\n",
    "      f'Вероятность того, что студент учится на факультете C: {round(PAB3, 4)} = {round(PAB3 * 100, 2)}%.')"
   ]
  }
 ],
 "metadata": {
  "kernelspec": {
   "display_name": "Python 3 (ipykernel)",
   "language": "python",
   "name": "python3"
  },
  "language_info": {
   "codemirror_mode": {
    "name": "ipython",
    "version": 3
   },
   "file_extension": ".py",
   "mimetype": "text/x-python",
   "name": "python",
   "nbconvert_exporter": "python",
   "pygments_lexer": "ipython3",
   "version": "3.10.9"
  }
 },
 "nbformat": 4,
 "nbformat_minor": 5
}
