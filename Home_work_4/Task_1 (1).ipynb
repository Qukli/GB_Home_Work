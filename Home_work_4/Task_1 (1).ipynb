{
 "cells": [
  {
   "cell_type": "markdown",
   "id": "35e9f132-37f9-4cb3-9909-938e5435d6d1",
   "metadata": {},
   "source": [
    "1. Случайная непрерывная величина A имеет равномерное распределение на промежутке (200, 800].\n",
    "Найдите ее среднее значение и дисперсию."
   ]
  },
  {
   "cell_type": "code",
   "execution_count": 1,
   "id": "114c0425-db79-49d4-9ca9-1df50ab613e3",
   "metadata": {},
   "outputs": [],
   "source": [
    "# Импортируем библиотеку math для использования математических функций\n",
    "import math\n",
    "import matplotlib.pyplot as plt"
   ]
  },
  {
   "cell_type": "code",
   "execution_count": 2,
   "id": "47ca777a-2475-47a9-919f-aea686de340e",
   "metadata": {},
   "outputs": [],
   "source": [
    "# Задаем значения интервала\n",
    "a = 200\n",
    "b = 800"
   ]
  },
  {
   "cell_type": "code",
   "execution_count": 3,
   "id": "4ba7ec70-73c6-4206-8996-df0297dc2b15",
   "metadata": {},
   "outputs": [],
   "source": [
    "# Вычисляем среднее значение\n",
    "mean = (a + b) / 2"
   ]
  },
  {
   "cell_type": "code",
   "execution_count": 4,
   "id": "7c33364e-d4a1-4f3d-aa5f-0285bff8cdd6",
   "metadata": {},
   "outputs": [],
   "source": [
    "# Вычисляем дисперсию\n",
    "variance = ((b - a) ** 2) / 12"
   ]
  },
  {
   "cell_type": "code",
   "execution_count": 5,
   "id": "6ae876dd-5911-4938-a8fc-3d8f758a5af5",
   "metadata": {},
   "outputs": [
    {
     "name": "stdout",
     "output_type": "stream",
     "text": [
      "Среднее значение: 500.0\n",
      "Дисперсия: 30000.0\n"
     ]
    }
   ],
   "source": [
    "# Выводим результаты\n",
    "print(\"Среднее значение:\", mean)\n",
    "print(\"Дисперсия:\", variance)"
   ]
  },
  {
   "cell_type": "markdown",
   "id": "6c9299ed-fceb-434e-b5c0-94f4b10a02cc",
   "metadata": {},
   "source": [
    "2.О случайной непрерывной равномерно распределенной величине B известно, что ее дисперсия равна 0.2.\n",
    "Можно ли найти правую границу величины B и ее среднее значение зная, что левая граница равна 0.5?\n",
    "Если да, найдите ее."
   ]
  },
  {
   "cell_type": "code",
   "execution_count": 6,
   "id": "f83b1881-e339-4af6-80e4-4fbdacc83a97",
   "metadata": {},
   "outputs": [],
   "source": [
    "# Известные значения\n",
    "a = 0.5  # Левая граница\n",
    "variance = 0.2  # Дисперсия"
   ]
  },
  {
   "cell_type": "code",
   "execution_count": 7,
   "id": "63bd4725-4798-4c26-a130-c0c3b4841ceb",
   "metadata": {},
   "outputs": [],
   "source": [
    "# Находим правую границу b\n",
    "b = math.sqrt(12 * variance) + a"
   ]
  },
  {
   "cell_type": "code",
   "execution_count": 8,
   "id": "cd215fc3-fe31-494b-a1f1-f2f7f16dbca4",
   "metadata": {},
   "outputs": [],
   "source": [
    "# Находим среднее значение mu\n",
    "mu = (a + b) / 2"
   ]
  },
  {
   "cell_type": "code",
   "execution_count": 9,
   "id": "e9a993e2-6625-414a-af71-25eeb75a71a7",
   "metadata": {},
   "outputs": [
    {
     "name": "stdout",
     "output_type": "stream",
     "text": [
      "Правая граница (b): 2.05\n",
      "Среднее значение (mu): 1.27\n"
     ]
    }
   ],
   "source": [
    "# Выводим результаты\n",
    "print(\"Правая граница (b):\",round(b, 2))\n",
    "print(\"Среднее значение (mu):\", round(mu, 2))"
   ]
  },
  {
   "cell_type": "markdown",
   "id": "72007e32-092d-479e-b6e1-37c3a1e3da9a",
   "metadata": {},
   "source": [
    "3. Непрерывная случайная величина X распределена нормально и задана плотностью распределения:\n",
    "\n",
    "\\[ f(x) = \\frac{1}{4 \\sqrt{2\\pi}} e^{-\\frac{(x+2)^2}{32}} \\]\n",
    "\n",
    "Найдите:\n",
    "а). \\( M(X) \\) (математическое ожидание)\n",
    "б). \\( D(X) \\) (дисперсия)\n",
    "в). \\( \\text{std}(X) \\) (среднее квадратичное отклонение)\n"
   ]
  },
  {
   "cell_type": "code",
   "execution_count": 10,
   "id": "82eb9a77-f508-4d01-abc8-a679880fa5df",
   "metadata": {},
   "outputs": [],
   "source": [
    "# Заданные параметры\n",
    "mu = -2\n",
    "sigma_squared = 32"
   ]
  },
  {
   "cell_type": "code",
   "execution_count": 11,
   "id": "aff0691e-da13-420c-97af-1f65836ccdf5",
   "metadata": {},
   "outputs": [],
   "source": [
    "# Вычисляем среднее квадратичное отклонение\n",
    "sigma = math.sqrt(sigma_squared)\n"
   ]
  },
  {
   "cell_type": "code",
   "execution_count": 12,
   "id": "d9e2eff6-d45a-4923-8f10-6598480fc9aa",
   "metadata": {},
   "outputs": [],
   "source": [
    "# Вычисляем математическое ожидание\n",
    "mean = mu"
   ]
  },
  {
   "cell_type": "code",
   "execution_count": 13,
   "id": "4f65be9f-ff2a-4438-8119-a3346ba685d8",
   "metadata": {},
   "outputs": [],
   "source": [
    "# Вычисляем дисперсию\n",
    "variance = sigma_squared"
   ]
  },
  {
   "cell_type": "code",
   "execution_count": 14,
   "id": "54e69bc5-ba40-4fe4-9e02-f59d04d94a17",
   "metadata": {},
   "outputs": [
    {
     "name": "stdout",
     "output_type": "stream",
     "text": [
      "а). M(X) = -2\n",
      "б). D(X) = 32\n",
      "в). std(X) = 5.656854249492381\n"
     ]
    }
   ],
   "source": [
    "# Выводим результаты\n",
    "print(\"а). M(X) =\", mean)\n",
    "print(\"б). D(X) =\", variance)\n",
    "print(\"в). std(X) =\", sigma)"
   ]
  },
  {
   "cell_type": "markdown",
   "id": "3740ca4d-5880-4d5f-a457-d8b2fdbe411c",
   "metadata": {},
   "source": [
    "4. Рост взрослого населения города X имеет нормальное распределение. Причем, средний рост равен 174 см, а среднее квадратичное отклонение равно 8 см. Какова вероятность того, что случайным образом выбранный взрослый человек имеет рост:\n",
    "\n",
    "а). больше 182 см\n",
    "б). больше 190 см\n",
    "в). от 166 см до 190 см\n",
    "г). от 166 см до 182 см\n",
    "д). от 158 см до 190 см\n",
    "е). не выше 150 см или не ниже 190 см\n",
    "ё). не выше 150 см или не ниже 198 см\n",
    "ж). ниже 166 см.\n"
   ]
  },
  {
   "cell_type": "code",
   "execution_count": 15,
   "id": "bd930037-6c6f-4451-8c0a-97d33243dd6e",
   "metadata": {},
   "outputs": [
    {
     "data": {
      "text/plain": [
       "0"
      ]
     },
     "execution_count": 15,
     "metadata": {},
     "output_type": "execute_result"
    }
   ],
   "source": [
    "from scipy.stats import norm\n",
    "from os import system\n",
    "system(\"cls\")"
   ]
  },
  {
   "cell_type": "code",
   "execution_count": 16,
   "id": "04339e92-f34c-47f8-8905-2fc33af87466",
   "metadata": {},
   "outputs": [],
   "source": [
    "mu = 174\n",
    "sigma = 8"
   ]
  },
  {
   "cell_type": "code",
   "execution_count": 17,
   "id": "7af092f7-7520-4f36-9a22-166a707196d0",
   "metadata": {},
   "outputs": [
    {
     "name": "stdout",
     "output_type": "stream",
     "text": [
      ">>> Вероятность роста больше 182 см =  0.1587\n"
     ]
    }
   ],
   "source": [
    "a = 182\n",
    "pa = 1-norm.cdf(a, mu, sigma)\n",
    "print(f'>>> Вероятность роста больше {a} см = {pa: .4f}')"
   ]
  },
  {
   "cell_type": "code",
   "execution_count": 18,
   "id": "625c800c-34cb-42e3-9eb0-2f485062bd68",
   "metadata": {},
   "outputs": [
    {
     "name": "stdout",
     "output_type": "stream",
     "text": [
      ">>> Вероятность роста больше 190 см =  0.0228\n"
     ]
    }
   ],
   "source": [
    "b = 190\n",
    "pb = 1-norm.cdf(b, mu, sigma)\n",
    "print(f'>>> Вероятность роста больше {b} см = {pb: .4f}')"
   ]
  },
  {
   "cell_type": "code",
   "execution_count": 19,
   "id": "4865693e-6af0-4088-8ed3-2bac2809d6df",
   "metadata": {},
   "outputs": [
    {
     "name": "stdout",
     "output_type": "stream",
     "text": [
      ">>> Вероятность роста от 166 см до 190 см =  0.8186\n"
     ]
    }
   ],
   "source": [
    "v1, v2 = 166, 190\n",
    "pv = norm.cdf(v2, mu, sigma)-norm.cdf(v1, mu, sigma)\n",
    "print(f'>>> Вероятность роста от {v1} см до {v2} см = {pv: .4f}')"
   ]
  },
  {
   "cell_type": "code",
   "execution_count": 20,
   "id": "b9787b7c-9ff6-46cf-8b0d-ad1e0d6f500c",
   "metadata": {},
   "outputs": [
    {
     "name": "stdout",
     "output_type": "stream",
     "text": [
      ">>> Вероятность роста от 166 см до 182 см =  0.6827\n"
     ]
    }
   ],
   "source": [
    "g1, g2 = 166, 182\n",
    "pg = norm.cdf(g2, mu, sigma)-norm.cdf(g1, mu, sigma)\n",
    "print(f'>>> Вероятность роста от {g1} см до {g2} см = {pg: .4f}')"
   ]
  },
  {
   "cell_type": "code",
   "execution_count": 21,
   "id": "4316fab1-8131-46d3-966a-2b6504c5db9d",
   "metadata": {},
   "outputs": [
    {
     "name": "stdout",
     "output_type": "stream",
     "text": [
      ">>> Вероятность роста от 158 см до 190 см =  0.9545\n"
     ]
    }
   ],
   "source": [
    "d1, d2 = 158, 190\n",
    "pd = norm.cdf(d2, mu, sigma)-norm.cdf(d1, mu, sigma)\n",
    "print(f'>>> Вероятность роста от {d1} см до {d2} см = {pd: .4f}')"
   ]
  },
  {
   "cell_type": "code",
   "execution_count": 22,
   "id": "ef1018b1-385f-4fa6-9a5f-f5adc85e764b",
   "metadata": {},
   "outputs": [
    {
     "name": "stdout",
     "output_type": "stream",
     "text": [
      ">>> Вероятность роста не выше 150 см или не ниже 190 см =  0.0241\n"
     ]
    }
   ],
   "source": [
    "e1, e2 = 150, 190\n",
    "pe = norm.cdf(e1, mu, sigma)+1-norm.cdf(e2, mu, sigma)\n",
    "print(f'>>> Вероятность роста не выше {e1} см или не ниже {e2} см = {pe: .4f}')"
   ]
  },
  {
   "cell_type": "code",
   "execution_count": 23,
   "id": "467d95b4-0b15-401e-a3da-2a6dde8dfb3e",
   "metadata": {},
   "outputs": [
    {
     "name": "stdout",
     "output_type": "stream",
     "text": [
      ">>> Вероятность роста не выше 150 см или не ниже 198 см =  0.0027\n"
     ]
    }
   ],
   "source": [
    "yo1, yo2 = 150, 198\n",
    "pyo = norm.cdf(yo1, mu, sigma)+1-norm.cdf(yo2, mu, sigma)\n",
    "print(\n",
    "    f'>>> Вероятность роста не выше {yo1} см или не ниже {yo2} см = {pyo: .4f}')"
   ]
  },
  {
   "cell_type": "code",
   "execution_count": 24,
   "id": "00fa926a-1f10-4790-9c3e-2f6a98f1a9cc",
   "metadata": {},
   "outputs": [
    {
     "name": "stdout",
     "output_type": "stream",
     "text": [
      ">>> Вероятность роста ниже 166 см =  0.1587\n"
     ]
    }
   ],
   "source": [
    "zh = 166\n",
    "pzh = norm.cdf(zh, mu, sigma)\n",
    "print(f'>>> Вероятность роста ниже {zh} см = {pzh: .4f}')"
   ]
  },
  {
   "cell_type": "markdown",
   "id": "2e642670-c897-4931-bcd1-3a071b562094",
   "metadata": {},
   "source": [
    "5.На сколько сигм (средних квадратичных отклонений) отклоняется рост человека, равный 190 см, от математического ожидания роста в популяции, в которой M(X) = 178 см и D(X) = 25 кв.см?"
   ]
  },
  {
   "cell_type": "code",
   "execution_count": 25,
   "id": "c118af84-5742-41cd-ab95-66bba2106d39",
   "metadata": {},
   "outputs": [],
   "source": [
    "from math import sqrt"
   ]
  },
  {
   "cell_type": "code",
   "execution_count": 26,
   "id": "d657b0d4-5957-492a-a906-0d886e391c9d",
   "metadata": {},
   "outputs": [],
   "source": [
    "growth = 190\n",
    "mx = 178\n",
    "dx = 25\n",
    "std = sqrt(dx)\n",
    "sigma = (growth-mx)/std"
   ]
  },
  {
   "cell_type": "code",
   "execution_count": 27,
   "id": "8fe7ad66-6fc9-4870-9643-44a69722b7ba",
   "metadata": {},
   "outputs": [
    {
     "name": "stdout",
     "output_type": "stream",
     "text": [
      "Рост человека, равный 190 см, отклоняется от математического ожидания роста в популяции на 2.4 сигм.\n"
     ]
    }
   ],
   "source": [
    "print(\n",
    "    f'Рост человека, равный {growth} см, отклоняется от математического ожидания роста в популяции на {sigma} сигм.')"
   ]
  }
 ],
 "metadata": {
  "kernelspec": {
   "display_name": "Python 3 (ipykernel)",
   "language": "python",
   "name": "python3"
  },
  "language_info": {
   "codemirror_mode": {
    "name": "ipython",
    "version": 3
   },
   "file_extension": ".py",
   "mimetype": "text/x-python",
   "name": "python",
   "nbconvert_exporter": "python",
   "pygments_lexer": "ipython3",
   "version": "3.10.9"
  }
 },
 "nbformat": 4,
 "nbformat_minor": 5
}
